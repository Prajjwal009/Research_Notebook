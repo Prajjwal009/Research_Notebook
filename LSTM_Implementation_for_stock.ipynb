{
  "metadata": {
    "kernelspec": {
      "language": "python",
      "display_name": "Python 3",
      "name": "python3"
    },
    "language_info": {
      "name": "python",
      "version": "3.7.12",
      "mimetype": "text/x-python",
      "codemirror_mode": {
        "name": "ipython",
        "version": 3
      },
      "pygments_lexer": "ipython3",
      "nbconvert_exporter": "python",
      "file_extension": ".py"
    },
    "colab": {
      "name": "LSTM Implementation for stock",
      "provenance": [],
      "include_colab_link": true
    }
  },
  "nbformat_minor": 0,
  "nbformat": 4,
  "cells": [
    {
      "cell_type": "markdown",
      "metadata": {
        "id": "view-in-github",
        "colab_type": "text"
      },
      "source": [
        "<a href=\"https://colab.research.google.com/github/Prajjwal009/Research_Notebook/blob/main/LSTM_Implementation_for_stock.ipynb\" target=\"_parent\"><img src=\"https://colab.research.google.com/assets/colab-badge.svg\" alt=\"Open In Colab\"/></a>"
      ]
    },
    {
      "cell_type": "code",
      "source": [
        "import pandas as pd\n",
        "import numpy as np"
      ],
      "metadata": {
        "id": "_hsF3EaLhPfn"
      },
      "execution_count": 1,
      "outputs": []
    },
    {
      "cell_type": "code",
      "source": [
        "data = pd.read_csv(\"/content/AMZN_data.csv\")"
      ],
      "metadata": {
        "execution": {
          "iopub.status.busy": "2022-02-23T15:59:56.823824Z",
          "iopub.execute_input": "2022-02-23T15:59:56.824111Z",
          "iopub.status.idle": "2022-02-23T15:59:56.846780Z",
          "shell.execute_reply.started": "2022-02-23T15:59:56.824067Z",
          "shell.execute_reply": "2022-02-23T15:59:56.845712Z"
        },
        "trusted": true,
        "id": "jGtMdzSegdZa"
      },
      "execution_count": 2,
      "outputs": []
    },
    {
      "cell_type": "code",
      "source": [
        "from matplotlib import pyplot as plt\n",
        "\n",
        "\n",
        "plt.figure(figsize = (10,10))\n",
        "\n",
        "plt.plot(data[\"close\"],color = 'red')\n",
        "plt.grid()"
      ],
      "metadata": {
        "execution": {
          "iopub.status.busy": "2022-02-23T15:59:56.848686Z",
          "iopub.execute_input": "2022-02-23T15:59:56.849010Z",
          "iopub.status.idle": "2022-02-23T15:59:57.132710Z",
          "shell.execute_reply.started": "2022-02-23T15:59:56.848959Z",
          "shell.execute_reply": "2022-02-23T15:59:57.131556Z"
        },
        "trusted": true,
        "colab": {
          "base_uri": "https://localhost:8080/",
          "height": 592
        },
        "id": "Yf6C3Az7gdZb",
        "outputId": "f65a3be6-b8f8-48b6-dd4f-1f10e833fb32"
      },
      "execution_count": 3,
      "outputs": [
        {
          "output_type": "display_data",
          "data": {
            "image/png": "[encoded data removed]",
            "text/plain": [
              "<Figure size 720x720 with 1 Axes>"
            ]
          },
          "metadata": {
            "needs_background": "light"
          }
        }
      ]
    },
    {
      "cell_type": "code",
      "source": [
        "data.shape\n"
      ],
      "metadata": {
        "execution": {
          "iopub.status.busy": "2022-02-23T15:59:57.134555Z",
          "iopub.execute_input": "2022-02-23T15:59:57.134821Z",
          "iopub.status.idle": "2022-02-23T15:59:57.140357Z",
          "shell.execute_reply.started": "2022-02-23T15:59:57.134788Z",
          "shell.execute_reply": "2022-02-23T15:59:57.139656Z"
        },
        "trusted": true,
        "colab": {
          "base_uri": "https://localhost:8080/"
        },
        "id": "SUV0KD6HgdZc",
        "outputId": "7f408a45-fcea-420a-f41e-6a74ffca6338"
      },
      "execution_count": 4,
      "outputs": [
        {
          "output_type": "execute_result",
          "data": {
            "text/plain": [
              "(1259, 7)"
            ]
          },
          "metadata": {},
          "execution_count": 4
        }
      ]
    },
    {
      "cell_type": "code",
      "source": [
        "train_data = data[0:1000]\n",
        "test_data = data[1000:1259]\n"
      ],
      "metadata": {
        "execution": {
          "iopub.status.busy": "2022-02-23T15:59:57.141520Z",
          "iopub.execute_input": "2022-02-23T15:59:57.142265Z",
          "iopub.status.idle": "2022-02-23T15:59:57.154366Z",
          "shell.execute_reply.started": "2022-02-23T15:59:57.142226Z",
          "shell.execute_reply": "2022-02-23T15:59:57.153478Z"
        },
        "trusted": true,
        "id": "GFgqBDO7gdZd"
      },
      "execution_count": 5,
      "outputs": []
    },
    {
      "cell_type": "code",
      "source": [
        "#importing libraries\n",
        "\n",
        "\n",
        "from sklearn.preprocessing import MinMaxScaler\n",
        "from tensorflow.keras.models import Sequential\n",
        "from tensorflow.keras.layers import Dense, Dropout, LSTM\n",
        "from tensorflow.keras.callbacks import ModelCheckpoint, EarlyStopping"
      ],
      "metadata": {
        "execution": {
          "iopub.status.busy": "2022-02-23T15:59:57.155771Z",
          "iopub.execute_input": "2022-02-23T15:59:57.156841Z",
          "iopub.status.idle": "2022-02-23T16:00:05.837719Z",
          "shell.execute_reply.started": "2022-02-23T15:59:57.156788Z",
          "shell.execute_reply": "2022-02-23T16:00:05.836514Z"
        },
        "trusted": true,
        "id": "d9DLiHMEgdZd"
      },
      "execution_count": 6,
      "outputs": []
    },
    {
      "cell_type": "code",
      "source": [
        "scaler = MinMaxScaler(feature_range=(0,1))\n",
        "scaled_data = scaler.fit_transform(train_data['close'].values.reshape(-1,1))"
      ],
      "metadata": {
        "execution": {
          "iopub.status.busy": "2022-02-23T16:00:05.840293Z",
          "iopub.execute_input": "2022-02-23T16:00:05.840872Z",
          "iopub.status.idle": "2022-02-23T16:00:05.849889Z",
          "shell.execute_reply.started": "2022-02-23T16:00:05.840823Z",
          "shell.execute_reply": "2022-02-23T16:00:05.848700Z"
        },
        "trusted": true,
        "id": "mzUuko0EgdZe"
      },
      "execution_count": 7,
      "outputs": []
    },
    {
      "cell_type": "code",
      "source": [
        "prediction_days = 100\n",
        "\n",
        "x_train = []\n",
        "y_train = []\n",
        "\n",
        "for x in range(prediction_days,len(scaled_data)):\n",
        "    x_train.append(scaled_data[x - prediction_days:x,0])\n",
        "    y_train.append(scaled_data[x, 0])\n",
        "    \n",
        "    \n",
        "x_train, y_train = np.array(x_train), np.array(y_train)\n",
        "x_train = np.reshape(x_train, (x_train.shape[0], x_train.shape[1], 1))\n",
        "    \n",
        "    "
      ],
      "metadata": {
        "execution": {
          "iopub.status.busy": "2022-02-23T16:00:05.851412Z",
          "iopub.execute_input": "2022-02-23T16:00:05.851786Z",
          "iopub.status.idle": "2022-02-23T16:00:05.877123Z",
          "shell.execute_reply.started": "2022-02-23T16:00:05.851737Z",
          "shell.execute_reply": "2022-02-23T16:00:05.875952Z"
        },
        "trusted": true,
        "id": "gC790b_qgdZh"
      },
      "execution_count": 10,
      "outputs": []
    },
    {
      "cell_type": "code",
      "source": [
        "def LSTM_model():\n",
        "    \n",
        "    model = Sequential()\n",
        "    \n",
        "    model.add(LSTM(units = 50, return_sequences = True, input_shape = (x_train.shape[1],1)))\n",
        "    model.add(Dropout(0.2))\n",
        "\n",
        "    model.add(LSTM(units = 50, return_sequences = True))\n",
        "    model.add(Dropout(0.2))\n",
        "\n",
        "    model.add(LSTM(units = 50))\n",
        "    model.add(Dropout(0.2))\n",
        "    \n",
        "    model.add(Dense(units=1))\n",
        "    \n",
        "    return model"
      ],
      "metadata": {
        "execution": {
          "iopub.status.busy": "2022-02-23T16:00:05.878244Z",
          "iopub.execute_input": "2022-02-23T16:00:05.879205Z",
          "iopub.status.idle": "2022-02-23T16:00:05.888798Z",
          "shell.execute_reply.started": "2022-02-23T16:00:05.879051Z",
          "shell.execute_reply": "2022-02-23T16:00:05.887840Z"
        },
        "trusted": true,
        "id": "olsFf6MZgdZh"
      },
      "execution_count": 11,
      "outputs": []
    },
    {
      "cell_type": "code",
      "source": [
        "model = LSTM_model()\n",
        "model.summary()\n",
        "model.compile(optimizer='adam', \n",
        "              loss='mean_squared_error')"
      ],
      "metadata": {
        "execution": {
          "iopub.status.busy": "2022-02-23T16:00:05.891324Z",
          "iopub.execute_input": "2022-02-23T16:00:05.891878Z",
          "iopub.status.idle": "2022-02-23T16:00:06.836434Z",
          "shell.execute_reply.started": "2022-02-23T16:00:05.891830Z",
          "shell.execute_reply": "2022-02-23T16:00:06.835357Z"
        },
        "trusted": true,
        "colab": {
          "base_uri": "https://localhost:8080/"
        },
        "id": "qryIOeZsgdZi",
        "outputId": "1f191da1-4c8d-42d7-b76a-52f9974fe27b"
      },
      "execution_count": 12,
      "outputs": [
        {
          "output_type": "stream",
          "name": "stdout",
          "text": [
            "Model: \"sequential\"\n",
            "_________________________________________________________________\n",
            " Layer (type)                Output Shape              Param #   \n",
            "=================================================================\n",
            " lstm (LSTM)                 (None, 100, 50)           10400     \n",
            "                                                                 \n",
            " dropout (Dropout)           (None, 100, 50)           0         \n",
            "                                                                 \n",
            " lstm_1 (LSTM)               (None, 100, 50)           20200     \n",
            "                                                                 \n",
            " dropout_1 (Dropout)         (None, 100, 50)           0         \n",
            "                                                                 \n",
            " lstm_2 (LSTM)               (None, 50)                20200     \n",
            "                                                                 \n",
            " dropout_2 (Dropout)         (None, 50)                0         \n",
            "                                                                 \n",
            " dense (Dense)               (None, 1)                 51        \n",
            "                                                                 \n",
            "=================================================================\n",
            "Total params: 50,851\n",
            "Trainable params: 50,851\n",
            "Non-trainable params: 0\n",
            "_________________________________________________________________\n"
          ]
        }
      ]
    },
    {
      "cell_type": "code",
      "source": [
        "model.fit(x_train, \n",
        "          y_train, \n",
        "          epochs=25, \n",
        "          batch_size = 32)"
      ],
      "metadata": {
        "execution": {
          "iopub.status.busy": "2022-02-23T16:00:06.837658Z",
          "iopub.execute_input": "2022-02-23T16:00:06.837894Z",
          "iopub.status.idle": "2022-02-23T16:02:02.210242Z",
          "shell.execute_reply.started": "2022-02-23T16:00:06.837866Z",
          "shell.execute_reply": "2022-02-23T16:02:02.209546Z"
        },
        "trusted": true,
        "colab": {
          "base_uri": "https://localhost:8080/"
        },
        "id": "VPOkhAUmgdZi",
        "outputId": "5b26f69d-d9a9-4f3f-a815-f26cd6745951"
      },
      "execution_count": 13,
      "outputs": [
        {
          "output_type": "stream",
          "name": "stdout",
          "text": [
            "Epoch 1/25\n",
            "29/29 [==============================] - 16s 283ms/step - loss: 0.0473\n",
            "Epoch 2/25\n",
            "29/29 [==============================] - 7s 251ms/step - loss: 0.0061\n",
            "Epoch 3/25\n",
            "29/29 [==============================] - 4s 150ms/step - loss: 0.0045\n",
            "Epoch 4/25\n",
            "29/29 [==============================] - 4s 151ms/step - loss: 0.0046\n",
            "Epoch 5/25\n",
            "29/29 [==============================] - 4s 151ms/step - loss: 0.0042\n",
            "Epoch 6/25\n",
            "29/29 [==============================] - 4s 149ms/step - loss: 0.0043\n",
            "Epoch 7/25\n",
            "29/29 [==============================] - 4s 150ms/step - loss: 0.0041\n",
            "Epoch 8/25\n",
            "29/29 [==============================] - 4s 151ms/step - loss: 0.0046\n",
            "Epoch 9/25\n",
            "29/29 [==============================] - 4s 152ms/step - loss: 0.0047\n",
            "Epoch 10/25\n",
            "29/29 [==============================] - 4s 151ms/step - loss: 0.0044\n",
            "Epoch 11/25\n",
            "29/29 [==============================] - 4s 152ms/step - loss: 0.0036\n",
            "Epoch 12/25\n",
            "29/29 [==============================] - 4s 151ms/step - loss: 0.0034\n",
            "Epoch 13/25\n",
            "29/29 [==============================] - 4s 149ms/step - loss: 0.0038\n",
            "Epoch 14/25\n",
            "29/29 [==============================] - 4s 149ms/step - loss: 0.0033\n",
            "Epoch 15/25\n",
            "29/29 [==============================] - 4s 150ms/step - loss: 0.0033\n",
            "Epoch 16/25\n",
            "29/29 [==============================] - 4s 148ms/step - loss: 0.0030\n",
            "Epoch 17/25\n",
            "29/29 [==============================] - 4s 149ms/step - loss: 0.0032\n",
            "Epoch 18/25\n",
            "29/29 [==============================] - 4s 150ms/step - loss: 0.0032\n",
            "Epoch 19/25\n",
            "29/29 [==============================] - 5s 161ms/step - loss: 0.0034\n",
            "Epoch 20/25\n",
            "29/29 [==============================] - 4s 149ms/step - loss: 0.0030\n",
            "Epoch 21/25\n",
            "29/29 [==============================] - 4s 150ms/step - loss: 0.0029\n",
            "Epoch 22/25\n",
            "29/29 [==============================] - 5s 168ms/step - loss: 0.0028\n",
            "Epoch 23/25\n",
            "29/29 [==============================] - 4s 149ms/step - loss: 0.0029\n",
            "Epoch 24/25\n",
            "29/29 [==============================] - 4s 151ms/step - loss: 0.0030\n",
            "Epoch 25/25\n",
            "29/29 [==============================] - 4s 150ms/step - loss: 0.0031\n"
          ]
        },
        {
          "output_type": "execute_result",
          "data": {
            "text/plain": [
              "<keras.callbacks.History at 0x7fa74ff49690>"
            ]
          },
          "metadata": {},
          "execution_count": 13
        }
      ]
    },
    {
      "cell_type": "code",
      "source": [
        "actual_price = test_data[\"close\"].values\n",
        "total_dataset = pd.concat((train_data['close'], test_data['close']), axis=0)"
      ],
      "metadata": {
        "execution": {
          "iopub.status.busy": "2022-02-23T16:02:02.211330Z",
          "iopub.execute_input": "2022-02-23T16:02:02.211601Z",
          "iopub.status.idle": "2022-02-23T16:02:02.218431Z",
          "shell.execute_reply.started": "2022-02-23T16:02:02.211570Z",
          "shell.execute_reply": "2022-02-23T16:02:02.217510Z"
        },
        "trusted": true,
        "id": "yWez402ugdZj"
      },
      "execution_count": 14,
      "outputs": []
    },
    {
      "cell_type": "code",
      "source": [
        "total_dataset"
      ],
      "metadata": {
        "execution": {
          "iopub.status.busy": "2022-02-23T16:02:02.220349Z",
          "iopub.execute_input": "2022-02-23T16:02:02.221062Z",
          "iopub.status.idle": "2022-02-23T16:02:02.237757Z",
          "shell.execute_reply.started": "2022-02-23T16:02:02.221000Z",
          "shell.execute_reply": "2022-02-23T16:02:02.236821Z"
        },
        "trusted": true,
        "colab": {
          "base_uri": "https://localhost:8080/"
        },
        "id": "v-Du1Gp5gdZm",
        "outputId": "da02c6aa-dde0-449e-9c7f-08f2b6e8ff62"
      },
      "execution_count": 15,
      "outputs": [
        {
          "output_type": "execute_result",
          "data": {
            "text/plain": [
              "0        261.95\n",
              "1        257.21\n",
              "2        258.70\n",
              "3        269.47\n",
              "4        269.24\n",
              "         ...   \n",
              "1254    1390.00\n",
              "1255    1429.95\n",
              "1256    1390.00\n",
              "1257    1442.84\n",
              "1258    1416.78\n",
              "Name: close, Length: 1259, dtype: float64"
            ]
          },
          "metadata": {},
          "execution_count": 15
        }
      ]
    },
    {
      "cell_type": "code",
      "source": [
        "model_inputs = total_dataset[len(total_dataset) - len(test_data) - prediction_days:].values\n",
        "model_inputs = model_inputs.reshape(-1,1)\n",
        "model_inputs = scaler.transform(model_inputs)"
      ],
      "metadata": {
        "execution": {
          "iopub.status.busy": "2022-02-23T16:16:28.706097Z",
          "iopub.execute_input": "2022-02-23T16:16:28.706376Z",
          "iopub.status.idle": "2022-02-23T16:16:28.711932Z",
          "shell.execute_reply.started": "2022-02-23T16:16:28.706347Z",
          "shell.execute_reply": "2022-02-23T16:16:28.710748Z"
        },
        "trusted": true,
        "id": "Kj_MYZs-gdZm"
      },
      "execution_count": 16,
      "outputs": []
    },
    {
      "cell_type": "code",
      "source": [
        "x_test = []\n",
        "for x in range(prediction_days, len(model_inputs)):\n",
        "    x_test.append(model_inputs[x-prediction_days:x, 0])\n",
        "\n",
        "x_test = np.array(x_test)\n",
        "x_test = np.reshape(x_test, (x_test.shape[0], x_test.shape[1] ,1))\n",
        "\n",
        "predicted_prices = model.predict(x_test)\n",
        "predicted_prices = scaler.inverse_transform(predicted_prices)"
      ],
      "metadata": {
        "execution": {
          "iopub.status.busy": "2022-02-23T16:04:27.024055Z",
          "iopub.execute_input": "2022-02-23T16:04:27.024702Z",
          "iopub.status.idle": "2022-02-23T16:04:28.643808Z",
          "shell.execute_reply.started": "2022-02-23T16:04:27.024663Z",
          "shell.execute_reply": "2022-02-23T16:04:28.643056Z"
        },
        "trusted": true,
        "id": "zun8sqfagdZn"
      },
      "execution_count": 17,
      "outputs": []
    },
    {
      "cell_type": "code",
      "source": [
        "plt.plot(actual_price, color='black', label=f\"Actual amz price\")\n",
        "plt.plot(predicted_prices, color= 'red', label=f\"predicted amz price\")\n",
        "plt.title(f\"amz share price\")\n",
        "plt.xlabel(\"time\")\n",
        "plt.ylabel(f\"amz share price\")\n",
        "plt.legend()\n",
        "plt.show()"
      ],
      "metadata": {
        "execution": {
          "iopub.status.busy": "2022-02-23T16:07:12.350264Z",
          "iopub.execute_input": "2022-02-23T16:07:12.350846Z",
          "iopub.status.idle": "2022-02-23T16:07:12.569969Z",
          "shell.execute_reply.started": "2022-02-23T16:07:12.350800Z",
          "shell.execute_reply": "2022-02-23T16:07:12.568752Z"
        },
        "trusted": true,
        "colab": {
          "base_uri": "https://localhost:8080/",
          "height": 295
        },
        "id": "fpZGTLVlgdZn",
        "outputId": "259568b6-3b74-4d87-cb34-d29d7a14bdeb"
      },
      "execution_count": 18,
      "outputs": [
        {
          "output_type": "display_data",
          "data": {
            "image/png": "[encoded data removed]",
            "text/plain": [
              "<Figure size 432x288 with 1 Axes>"
            ]
          },
          "metadata": {
            "needs_background": "light"
          }
        }
      ]
    }
  ]
}