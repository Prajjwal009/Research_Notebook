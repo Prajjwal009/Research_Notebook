{
 "cells": [
  {
   "cell_type": "markdown",
   "metadata": {},
   "source": [
    "# We will be using Tesla stock data and will be checking how effective are SMA and RSI for buying opportunities."
   ]
  },
  {
   "cell_type": "code",
   "execution_count": null,
   "metadata": {
    "execution": {
     "iopub.execute_input": "2021-09-01T22:21:27.924392Z",
     "iopub.status.busy": "2021-09-01T22:21:27.923942Z",
     "iopub.status.idle": "2021-09-01T22:21:27.948708Z",
     "shell.execute_reply": "2021-09-01T22:21:27.947495Z",
     "shell.execute_reply.started": "2021-09-01T22:21:27.924302Z"
    }
   },
   "outputs": [],
   "source": [
    "# This Python 3 environment comes with many helpful analytics libraries installed\n",
    "# It is defined by the kaggle/python Docker image: https://github.com/kaggle/docker-python\n",
    "# For example, here's several helpful packages to load\n",
    "\n",
    "import numpy as np # linear algebra\n",
    "import pandas as pd # data processing, CSV file I/O (e.g. pd.read_csv)\n",
    "\n",
    "# Input data files are available in the read-only \"../input/\" directory\n",
    "# For example, running this (by clicking run or pressing Shift+Enter) will list all files under the input directory\n",
    "\n",
    "import os\n",
    "for dirname, _, filenames in os.walk('/kaggle/input'):\n",
    "    for filename in filenames:\n",
    "        print(os.path.join(dirname, filename))\n",
    "\n",
    "# You can write up to 20GB to the current directory (/kaggle/working/) that gets preserved as output when you create a version using \"Save & Run All\" \n",
    "# You can also write temporary files to /kaggle/temp/, but they won't be saved outside of the current session"
   ]
  },
  {
   "cell_type": "code",
   "execution_count": null,
   "metadata": {
    "execution": {
     "iopub.execute_input": "2021-09-01T22:21:27.950529Z",
     "iopub.status.busy": "2021-09-01T22:21:27.950229Z",
     "iopub.status.idle": "2021-09-01T22:21:28.098112Z",
     "shell.execute_reply": "2021-09-01T22:21:28.096863Z",
     "shell.execute_reply.started": "2021-09-01T22:21:27.950499Z"
    }
   },
   "outputs": [],
   "source": [
    "data = pd.read_csv(\"../input/tesla-stock-price/Tesla.csv - Tesla.csv.csv\")\n",
    "data"
   ]
  },
  {
   "cell_type": "code",
   "execution_count": null,
   "metadata": {
    "execution": {
     "iopub.execute_input": "2021-09-01T22:21:28.100434Z",
     "iopub.status.busy": "2021-09-01T22:21:28.099982Z",
     "iopub.status.idle": "2021-09-01T22:21:28.105537Z",
     "shell.execute_reply": "2021-09-01T22:21:28.104149Z",
     "shell.execute_reply.started": "2021-09-01T22:21:28.100374Z"
    }
   },
   "outputs": [],
   "source": [
    "from matplotlib import pyplot as plt"
   ]
  },
  {
   "cell_type": "code",
   "execution_count": null,
   "metadata": {
    "execution": {
     "iopub.execute_input": "2021-09-01T22:21:28.108143Z",
     "iopub.status.busy": "2021-09-01T22:21:28.107687Z",
     "iopub.status.idle": "2021-09-01T22:21:28.232502Z",
     "shell.execute_reply": "2021-09-01T22:21:28.231124Z",
     "shell.execute_reply.started": "2021-09-01T22:21:28.108095Z"
    }
   },
   "outputs": [],
   "source": [
    "data[\"Date\"] = pd.to_datetime(data['Date'])"
   ]
  },
  {
   "cell_type": "code",
   "execution_count": null,
   "metadata": {
    "execution": {
     "iopub.execute_input": "2021-09-01T22:21:28.234362Z",
     "iopub.status.busy": "2021-09-01T22:21:28.234027Z",
     "iopub.status.idle": "2021-09-01T22:21:28.479627Z",
     "shell.execute_reply": "2021-09-01T22:21:28.478491Z",
     "shell.execute_reply.started": "2021-09-01T22:21:28.234327Z"
    }
   },
   "outputs": [],
   "source": [
    "plt.figure(figsize = (15,7))\n",
    "x = data[\"Date\"]\n",
    "y = data[\"Close\"]\n",
    "plt.plot(x,y,color = \"purple\")\n",
    "plt.grid()"
   ]
  },
  {
   "cell_type": "markdown",
   "metadata": {},
   "source": [
    "# Simple Moving-Average "
   ]
  },
  {
   "cell_type": "markdown",
   "metadata": {},
   "source": [
    "The number of prices within a time period is divided by the number of total periods.\n",
    "Using SMA indicator is one of the safest stragies for long-term trading but it doesn't work for intraday trading."
   ]
  },
  {
   "cell_type": "code",
   "execution_count": null,
   "metadata": {
    "execution": {
     "iopub.execute_input": "2021-09-01T22:21:28.48115Z",
     "iopub.status.busy": "2021-09-01T22:21:28.480814Z",
     "iopub.status.idle": "2021-09-01T22:21:28.493502Z",
     "shell.execute_reply": "2021-09-01T22:21:28.492687Z",
     "shell.execute_reply.started": "2021-09-01T22:21:28.481118Z"
    }
   },
   "outputs": [],
   "source": [
    "ma_20 = data.rolling(window=20).mean()\n",
    "ma_100 = data.rolling(window = 100).mean()"
   ]
  },
  {
   "cell_type": "code",
   "execution_count": null,
   "metadata": {
    "execution": {
     "iopub.execute_input": "2021-09-01T22:21:28.496059Z",
     "iopub.status.busy": "2021-09-01T22:21:28.495535Z",
     "iopub.status.idle": "2021-09-01T22:21:28.501818Z",
     "shell.execute_reply": "2021-09-01T22:21:28.501055Z",
     "shell.execute_reply.started": "2021-09-01T22:21:28.495997Z"
    }
   },
   "outputs": [],
   "source": [
    "ma_20 = ma_20[\"Close\"].fillna(0)\n",
    "# for dealing with the values ahead\n",
    "ma_100 = ma_100[\"Close\"].fillna(0)"
   ]
  },
  {
   "cell_type": "code",
   "execution_count": null,
   "metadata": {
    "execution": {
     "iopub.execute_input": "2021-09-01T22:21:28.504206Z",
     "iopub.status.busy": "2021-09-01T22:21:28.503673Z",
     "iopub.status.idle": "2021-09-01T22:21:28.789216Z",
     "shell.execute_reply": "2021-09-01T22:21:28.788049Z",
     "shell.execute_reply.started": "2021-09-01T22:21:28.504157Z"
    }
   },
   "outputs": [],
   "source": [
    "plt.figure(figsize = (15,7))\n",
    "x = data[\"Date\"]\n",
    "y = data[\"Close\"]\n",
    "plt.plot(x,y,color = \"black\",label = \"Price\")\n",
    "plt.plot(x,ma_20,color = \"red\",label = \"MA 20\")\n",
    "plt.plot(x,ma_100,color = \"green\",label = \"MA 100\")\n",
    "plt.grid()\n",
    "plt.legend()\n"
   ]
  },
  {
   "cell_type": "code",
   "execution_count": null,
   "metadata": {
    "execution": {
     "iopub.execute_input": "2021-09-01T22:21:28.790942Z",
     "iopub.status.busy": "2021-09-01T22:21:28.790633Z",
     "iopub.status.idle": "2021-09-01T22:21:28.796073Z",
     "shell.execute_reply": "2021-09-01T22:21:28.794839Z",
     "shell.execute_reply.started": "2021-09-01T22:21:28.790911Z"
    }
   },
   "outputs": [],
   "source": [
    "data[\"MA100\"] = ma_100"
   ]
  },
  {
   "cell_type": "code",
   "execution_count": null,
   "metadata": {
    "execution": {
     "iopub.execute_input": "2021-09-01T22:21:28.797745Z",
     "iopub.status.busy": "2021-09-01T22:21:28.797454Z",
     "iopub.status.idle": "2021-09-01T22:21:28.809323Z",
     "shell.execute_reply": "2021-09-01T22:21:28.808297Z",
     "shell.execute_reply.started": "2021-09-01T22:21:28.797717Z"
    }
   },
   "outputs": [],
   "source": [
    "data[\"MA20\"] = ma_20"
   ]
  },
  {
   "cell_type": "markdown",
   "metadata": {},
   "source": [
    "Using plotly for better observation of the chart (golden cross)."
   ]
  },
  {
   "cell_type": "code",
   "execution_count": null,
   "metadata": {
    "execution": {
     "iopub.execute_input": "2021-09-01T22:21:28.810833Z",
     "iopub.status.busy": "2021-09-01T22:21:28.810545Z",
     "iopub.status.idle": "2021-09-01T22:21:30.420776Z",
     "shell.execute_reply": "2021-09-01T22:21:30.41963Z",
     "shell.execute_reply.started": "2021-09-01T22:21:28.810805Z"
    }
   },
   "outputs": [],
   "source": [
    "import plotly.graph_objects as go\n",
    "import plotly.express as px\n",
    "from matplotlib import pyplot as plt"
   ]
  },
  {
   "cell_type": "code",
   "execution_count": null,
   "metadata": {
    "execution": {
     "iopub.execute_input": "2021-09-01T22:21:30.422427Z",
     "iopub.status.busy": "2021-09-01T22:21:30.422107Z",
     "iopub.status.idle": "2021-09-01T22:21:32.060569Z",
     "shell.execute_reply": "2021-09-01T22:21:32.059878Z",
     "shell.execute_reply.started": "2021-09-01T22:21:30.422396Z"
    }
   },
   "outputs": [],
   "source": [
    "px.line(data ,x = \"Date\",y = [\"Close\",\"MA20\",\"MA100\"],width = 1200,height = 600)\n"
   ]
  },
  {
   "cell_type": "code",
   "execution_count": null,
   "metadata": {
    "execution": {
     "iopub.execute_input": "2021-09-01T22:21:32.062201Z",
     "iopub.status.busy": "2021-09-01T22:21:32.061761Z",
     "iopub.status.idle": "2021-09-01T22:21:32.156594Z",
     "shell.execute_reply": "2021-09-01T22:21:32.155572Z",
     "shell.execute_reply.started": "2021-09-01T22:21:32.062161Z"
    }
   },
   "outputs": [],
   "source": [
    "fig = go.Figure(data=[go.Candlestick(x=data['Date'],\n",
    "                open=data['Open'],\n",
    "                high=data['High'],\n",
    "                low=data['Low'],\n",
    "                close=data['Close'])])\n",
    "\n",
    "fig.show()"
   ]
  },
  {
   "cell_type": "markdown",
   "metadata": {},
   "source": [
    " Buying shares whenever a golden cross occurs."
   ]
  },
  {
   "cell_type": "code",
   "execution_count": null,
   "metadata": {
    "execution": {
     "iopub.execute_input": "2021-09-01T22:21:32.15794Z",
     "iopub.status.busy": "2021-09-01T22:21:32.157668Z",
     "iopub.status.idle": "2021-09-01T22:21:32.191574Z",
     "shell.execute_reply": "2021-09-01T22:21:32.190814Z",
     "shell.execute_reply.started": "2021-09-01T22:21:32.157913Z"
    }
   },
   "outputs": [],
   "source": [
    "\n",
    "sum_profit = 0\n",
    "for i in range(1,len(ma_100)):\n",
    "    if ma_20[i-1] <= ma_100[i-1] and ma_20[i]>ma_100[i]:\n",
    "        bPrice = data[\"Close\"][i-1]\n",
    "        sPrice = data[\"Close\"][i+29]\n",
    "        pt = 50*(sPrice - bPrice)\n",
    "#         buying 50 shares and holding it for 30 days\n",
    "        sum_profit += pt\n",
    "print(f\"Total Profit : ${round(sum_profit)}\")\n",
    "        "
   ]
  },
  {
   "cell_type": "code",
   "execution_count": null,
   "metadata": {
    "execution": {
     "iopub.execute_input": "2021-09-01T22:21:32.193245Z",
     "iopub.status.busy": "2021-09-01T22:21:32.192923Z",
     "iopub.status.idle": "2021-09-01T22:21:32.338445Z",
     "shell.execute_reply": "2021-09-01T22:21:32.337109Z",
     "shell.execute_reply.started": "2021-09-01T22:21:32.193216Z"
    }
   },
   "outputs": [],
   "source": [
    "px.line(data ,x = \"Date\",y = \"Volume\",width = 1200,height = 600)"
   ]
  },
  {
   "cell_type": "markdown",
   "metadata": {},
   "source": [
    "# RSI"
   ]
  },
  {
   "cell_type": "markdown",
   "metadata": {},
   "source": [
    "Formula for RSI = 100 - (100/(1 + Average Gain/Average Loss))\n",
    "\n",
    "I tried to use diff() but it gave some errors, so I had to take the long way."
   ]
  },
  {
   "cell_type": "code",
   "execution_count": null,
   "metadata": {
    "execution": {
     "iopub.execute_input": "2021-09-01T22:21:32.340858Z",
     "iopub.status.busy": "2021-09-01T22:21:32.340423Z",
     "iopub.status.idle": "2021-09-01T22:21:32.451159Z",
     "shell.execute_reply": "2021-09-01T22:21:32.450336Z",
     "shell.execute_reply.started": "2021-09-01T22:21:32.340813Z"
    }
   },
   "outputs": [],
   "source": [
    "closeprice = data[\"Close\"]\n",
    "upClose = []\n",
    "downClose = []\n",
    "i = 0\n",
    "while i < len(data[\"Close\"]):\n",
    "    if i == 0:\n",
    "        upClose.append(0)\n",
    "        downClose.append(0)\n",
    "    else:\n",
    "        if (closeprice[i] - closeprice[i-1]) > 0:\n",
    "            upClose.append(closeprice[i] - closeprice[i-1])\n",
    "            downClose.append(0)\n",
    "        else:\n",
    "            downClose.append(closeprice[i] - closeprice[i-1])\n",
    "            upClose.append(0)\n",
    "            \n",
    "    i = i+1\n",
    "\n",
    "a = 0 \n",
    "avgGain = []\n",
    "avgLoss = []\n",
    "while a < len(upClose):\n",
    "    if a < 15:\n",
    "        avgGain.append(0)\n",
    "        avgLoss.append(0)\n",
    "    else:\n",
    "        sumGain = 0\n",
    "        sumLoss = 0\n",
    "        b = a - 14\n",
    "        while b<= a:\n",
    "            sumGain += upClose[b]\n",
    "            sumLoss += downClose[b]\n",
    "            b += 1\n",
    "        avgGain.append(sumGain/14)\n",
    "        avgLoss.append(abs(sumLoss/14))\n",
    "        \n",
    "    a +=1\n",
    "    \n",
    "c = 0 \n",
    "RS = []\n",
    "RSI = []\n",
    "while c < len(data[\"Close\"]):\n",
    "    if c < 15:\n",
    "        RS.append(0)\n",
    "        RSI.append(0)\n",
    "    else:\n",
    "        RSvalue = (avgGain[c]/avgLoss[c])\n",
    "        RS.append(RSvalue)\n",
    "        RSI.append(100-100/(1+RSvalue))\n",
    "    c = c+1\n",
    "\n",
    " "
   ]
  },
  {
   "cell_type": "code",
   "execution_count": null,
   "metadata": {
    "execution": {
     "iopub.execute_input": "2021-09-01T22:21:32.45303Z",
     "iopub.status.busy": "2021-09-01T22:21:32.452422Z",
     "iopub.status.idle": "2021-09-01T22:21:32.459717Z",
     "shell.execute_reply": "2021-09-01T22:21:32.458355Z",
     "shell.execute_reply.started": "2021-09-01T22:21:32.452954Z"
    }
   },
   "outputs": [],
   "source": [
    "data[\"RSI\"] = RSI"
   ]
  },
  {
   "cell_type": "code",
   "execution_count": null,
   "metadata": {
    "execution": {
     "iopub.execute_input": "2021-09-01T22:21:32.461378Z",
     "iopub.status.busy": "2021-09-01T22:21:32.46106Z",
     "iopub.status.idle": "2021-09-01T22:21:34.048138Z",
     "shell.execute_reply": "2021-09-01T22:21:34.047321Z",
     "shell.execute_reply.started": "2021-09-01T22:21:32.461337Z"
    }
   },
   "outputs": [],
   "source": [
    "import seaborn as sns\n",
    "plt.figure(figsize = (25,7))\n",
    "sns.set_theme(style = \"darkgrid\")\n",
    "sns.lineplot(y = \"RSI\",x =\"Date\",data = data,color = \"red\")\n",
    "sns.lineplot(y = 75,x = \"Date\",data = data,color = \"black\")\n",
    "sns.lineplot(y = 25,x = \"Date\",data = data,color = \"black\")"
   ]
  },
  {
   "cell_type": "markdown",
   "metadata": {},
   "source": [
    "Checking the number of buying opportunities using RSI indicator.\n",
    "Whenever stock's RSI goes below 25, hence it becomes oversold and gives some buying opportunities.\n",
    "Therefore buying 50 shares of Tesla and holding it for 10 days."
   ]
  },
  {
   "cell_type": "code",
   "execution_count": null,
   "metadata": {
    "execution": {
     "iopub.execute_input": "2021-09-01T22:21:34.05086Z",
     "iopub.status.busy": "2021-09-01T22:21:34.050431Z",
     "iopub.status.idle": "2021-09-01T22:21:34.057137Z",
     "shell.execute_reply": "2021-09-01T22:21:34.056415Z",
     "shell.execute_reply.started": "2021-09-01T22:21:34.05081Z"
    }
   },
   "outputs": [],
   "source": [
    "b_count = 0\n",
    "for i in data[\"RSI\"]:\n",
    "    if i<= 25 and i == 0  :\n",
    "        b_count += 1\n",
    "b_count\n",
    " "
   ]
  },
  {
   "cell_type": "code",
   "execution_count": null,
   "metadata": {
    "execution": {
     "iopub.execute_input": "2021-09-01T22:21:34.058817Z",
     "iopub.status.busy": "2021-09-01T22:21:34.058404Z",
     "iopub.status.idle": "2021-09-01T22:21:34.078148Z",
     "shell.execute_reply": "2021-09-01T22:21:34.077284Z",
     "shell.execute_reply.started": "2021-09-01T22:21:34.058787Z"
    }
   },
   "outputs": [],
   "source": [
    "count = len(data[\"Close\"])\n",
    "total_profit = 0\n",
    "\n",
    "for i in range(count):\n",
    "    if RSI[i]<=25 and RSI[i] == 0 :\n",
    "        buy_price = data[\"Close\"][i]\n",
    "        sell_price= data[\"Close\"][i+10]\n",
    "        profit = 50*(sell_price - buy_price) \n",
    "#         buying 50 shares\n",
    "        total_profit += profit\n",
    "    \n",
    "    \n",
    "print(f\"Total Profit : ${round(total_profit)}\")\n",
    "        \n"
   ]
  },
  {
   "cell_type": "markdown",
   "metadata": {},
   "source": []
  }
 ],
 "metadata": {
  "kernelspec": {
   "display_name": "Python 3",
   "language": "python",
   "name": "python3"
  },
  "language_info": {
   "codemirror_mode": {
    "name": "ipython",
    "version": 3
   },
   "file_extension": ".py",
   "mimetype": "text/x-python",
   "name": "python",
   "nbconvert_exporter": "python",
   "pygments_lexer": "ipython3",
   "version": "3.8.3"
  }
 },
 "nbformat": 4,
 "nbformat_minor": 4
}
